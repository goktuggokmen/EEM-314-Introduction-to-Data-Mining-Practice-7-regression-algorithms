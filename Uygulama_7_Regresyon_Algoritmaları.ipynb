{
  "nbformat": 4,
  "nbformat_minor": 0,
  "metadata": {
    "colab": {
      "name": "Uygulama 7 : Regresyon Algoritmaları.ipynb",
      "provenance": [],
      "collapsed_sections": [
        "8a3a4BEj9Fph",
        "jzRaOn8M2d45"
      ],
      "authorship_tag": "ABX9TyMObP0lvirbLOAPDXfNyxXf",
      "include_colab_link": true
    },
    "kernelspec": {
      "name": "python3",
      "display_name": "Python 3"
    },
    "language_info": {
      "name": "python"
    }
  },
  "cells": [
    {
      "cell_type": "markdown",
      "metadata": {
        "id": "view-in-github",
        "colab_type": "text"
      },
      "source": [
        "<a href=\"https://colab.research.google.com/github/goktuggokmen/Regression-Algorithms/blob/main/Uygulama_7_Regresyon_Algoritmalar%C4%B1.ipynb\" target=\"_parent\"><img src=\"https://colab.research.google.com/assets/colab-badge.svg\" alt=\"Open In Colab\"/></a>"
      ]
    },
    {
      "cell_type": "markdown",
      "metadata": {
        "id": "sCM_Ilgp8ibb"
      },
      "source": [
        "# **EEM 314 Veri Madenciliğine Giriş**\n",
        "# **Uygulama 7 : Regresyon Algoritmaları**"
      ]
    },
    {
      "cell_type": "markdown",
      "metadata": {
        "id": "dBLKtRfD8ufh"
      },
      "source": [
        "# **1. Kütüphanelerin Yüklenmesi**"
      ]
    },
    {
      "cell_type": "code",
      "metadata": {
        "id": "-RWHOyFa8orh"
      },
      "source": [
        "import pandas as pd\n",
        "import numpy as np\n",
        "import matplotlib.pyplot as plt\n",
        "import os\n",
        "import seaborn as sns\n",
        "from sklearn import metrics\n",
        "from sklearn.datasets import load_diabetes\n",
        "from sklearn.model_selection import train_test_split\n",
        "from sklearn.linear_model import LinearRegression\n",
        "from sklearn.ensemble import ExtraTreesRegressor\n",
        "from sklearn.ensemble import AdaBoostRegressor\n",
        "from sklearn.ensemble import BaggingRegressor\n",
        "from sklearn.ensemble import RandomForestRegressor\n",
        "from sklearn.ensemble import VotingRegressor\n",
        "from sklearn.ensemble import GradientBoostingRegressor"
      ],
      "execution_count": null,
      "outputs": []
    },
    {
      "cell_type": "markdown",
      "metadata": {
        "id": "8a3a4BEj9Fph"
      },
      "source": [
        "# **2. Verinin Dosyadan Okunması**"
      ]
    },
    {
      "cell_type": "code",
      "metadata": {
        "id": "GPzgnozC9LCx"
      },
      "source": [
        "data = pd.read_csv('/content/Real estate.csv')"
      ],
      "execution_count": null,
      "outputs": []
    },
    {
      "cell_type": "code",
      "metadata": {
        "id": "iddfp5lb93cb",
        "colab": {
          "base_uri": "https://localhost:8080/",
          "height": 417
        },
        "outputId": "9d448894-c17a-459e-d07b-d59007024321"
      },
      "source": [
        "data"
      ],
      "execution_count": null,
      "outputs": [
        {
          "output_type": "execute_result",
          "data": {
            "text/html": [
              "<div>\n",
              "<style scoped>\n",
              "    .dataframe tbody tr th:only-of-type {\n",
              "        vertical-align: middle;\n",
              "    }\n",
              "\n",
              "    .dataframe tbody tr th {\n",
              "        vertical-align: top;\n",
              "    }\n",
              "\n",
              "    .dataframe thead th {\n",
              "        text-align: right;\n",
              "    }\n",
              "</style>\n",
              "<table border=\"1\" class=\"dataframe\">\n",
              "  <thead>\n",
              "    <tr style=\"text-align: right;\">\n",
              "      <th></th>\n",
              "      <th>No</th>\n",
              "      <th>X1 transaction date</th>\n",
              "      <th>X2 house age</th>\n",
              "      <th>X3 distance to the nearest MRT station</th>\n",
              "      <th>X4 number of convenience stores</th>\n",
              "      <th>X5 latitude</th>\n",
              "      <th>X6 longitude</th>\n",
              "      <th>Y house price of unit area</th>\n",
              "    </tr>\n",
              "  </thead>\n",
              "  <tbody>\n",
              "    <tr>\n",
              "      <th>0</th>\n",
              "      <td>1</td>\n",
              "      <td>2012.917</td>\n",
              "      <td>32.0</td>\n",
              "      <td>84.87882</td>\n",
              "      <td>10</td>\n",
              "      <td>24.98298</td>\n",
              "      <td>121.54024</td>\n",
              "      <td>37.9</td>\n",
              "    </tr>\n",
              "    <tr>\n",
              "      <th>1</th>\n",
              "      <td>2</td>\n",
              "      <td>2012.917</td>\n",
              "      <td>19.5</td>\n",
              "      <td>306.59470</td>\n",
              "      <td>9</td>\n",
              "      <td>24.98034</td>\n",
              "      <td>121.53951</td>\n",
              "      <td>42.2</td>\n",
              "    </tr>\n",
              "    <tr>\n",
              "      <th>2</th>\n",
              "      <td>3</td>\n",
              "      <td>2013.583</td>\n",
              "      <td>13.3</td>\n",
              "      <td>561.98450</td>\n",
              "      <td>5</td>\n",
              "      <td>24.98746</td>\n",
              "      <td>121.54391</td>\n",
              "      <td>47.3</td>\n",
              "    </tr>\n",
              "    <tr>\n",
              "      <th>3</th>\n",
              "      <td>4</td>\n",
              "      <td>2013.500</td>\n",
              "      <td>13.3</td>\n",
              "      <td>561.98450</td>\n",
              "      <td>5</td>\n",
              "      <td>24.98746</td>\n",
              "      <td>121.54391</td>\n",
              "      <td>54.8</td>\n",
              "    </tr>\n",
              "    <tr>\n",
              "      <th>4</th>\n",
              "      <td>5</td>\n",
              "      <td>2012.833</td>\n",
              "      <td>5.0</td>\n",
              "      <td>390.56840</td>\n",
              "      <td>5</td>\n",
              "      <td>24.97937</td>\n",
              "      <td>121.54245</td>\n",
              "      <td>43.1</td>\n",
              "    </tr>\n",
              "    <tr>\n",
              "      <th>...</th>\n",
              "      <td>...</td>\n",
              "      <td>...</td>\n",
              "      <td>...</td>\n",
              "      <td>...</td>\n",
              "      <td>...</td>\n",
              "      <td>...</td>\n",
              "      <td>...</td>\n",
              "      <td>...</td>\n",
              "    </tr>\n",
              "    <tr>\n",
              "      <th>409</th>\n",
              "      <td>410</td>\n",
              "      <td>2013.000</td>\n",
              "      <td>13.7</td>\n",
              "      <td>4082.01500</td>\n",
              "      <td>0</td>\n",
              "      <td>24.94155</td>\n",
              "      <td>121.50381</td>\n",
              "      <td>15.4</td>\n",
              "    </tr>\n",
              "    <tr>\n",
              "      <th>410</th>\n",
              "      <td>411</td>\n",
              "      <td>2012.667</td>\n",
              "      <td>5.6</td>\n",
              "      <td>90.45606</td>\n",
              "      <td>9</td>\n",
              "      <td>24.97433</td>\n",
              "      <td>121.54310</td>\n",
              "      <td>50.0</td>\n",
              "    </tr>\n",
              "    <tr>\n",
              "      <th>411</th>\n",
              "      <td>412</td>\n",
              "      <td>2013.250</td>\n",
              "      <td>18.8</td>\n",
              "      <td>390.96960</td>\n",
              "      <td>7</td>\n",
              "      <td>24.97923</td>\n",
              "      <td>121.53986</td>\n",
              "      <td>40.6</td>\n",
              "    </tr>\n",
              "    <tr>\n",
              "      <th>412</th>\n",
              "      <td>413</td>\n",
              "      <td>2013.000</td>\n",
              "      <td>8.1</td>\n",
              "      <td>104.81010</td>\n",
              "      <td>5</td>\n",
              "      <td>24.96674</td>\n",
              "      <td>121.54067</td>\n",
              "      <td>52.5</td>\n",
              "    </tr>\n",
              "    <tr>\n",
              "      <th>413</th>\n",
              "      <td>414</td>\n",
              "      <td>2013.500</td>\n",
              "      <td>6.5</td>\n",
              "      <td>90.45606</td>\n",
              "      <td>9</td>\n",
              "      <td>24.97433</td>\n",
              "      <td>121.54310</td>\n",
              "      <td>63.9</td>\n",
              "    </tr>\n",
              "  </tbody>\n",
              "</table>\n",
              "<p>414 rows × 8 columns</p>\n",
              "</div>"
            ],
            "text/plain": [
              "      No  X1 transaction date  ...  X6 longitude  Y house price of unit area\n",
              "0      1             2012.917  ...     121.54024                        37.9\n",
              "1      2             2012.917  ...     121.53951                        42.2\n",
              "2      3             2013.583  ...     121.54391                        47.3\n",
              "3      4             2013.500  ...     121.54391                        54.8\n",
              "4      5             2012.833  ...     121.54245                        43.1\n",
              "..   ...                  ...  ...           ...                         ...\n",
              "409  410             2013.000  ...     121.50381                        15.4\n",
              "410  411             2012.667  ...     121.54310                        50.0\n",
              "411  412             2013.250  ...     121.53986                        40.6\n",
              "412  413             2013.000  ...     121.54067                        52.5\n",
              "413  414             2013.500  ...     121.54310                        63.9\n",
              "\n",
              "[414 rows x 8 columns]"
            ]
          },
          "metadata": {
            "tags": []
          },
          "execution_count": 6
        }
      ]
    },
    {
      "cell_type": "code",
      "metadata": {
        "colab": {
          "base_uri": "https://localhost:8080/",
          "height": 470
        },
        "id": "YoHMxIPGaSpq",
        "outputId": "112b255a-d57d-4f7b-914d-af275056f76f"
      },
      "source": [
        "#korelasyon matrisi\n",
        "corr_matrix=data.corr()\n",
        "sns.heatmap(corr_matrix, cmap='PuOr')"
      ],
      "execution_count": null,
      "outputs": [
        {
          "output_type": "execute_result",
          "data": {
            "text/plain": [
              "<matplotlib.axes._subplots.AxesSubplot at 0x7f12e67d3510>"
            ]
          },
          "metadata": {
            "tags": []
          },
          "execution_count": 19
        },
        {
          "output_type": "display_data",
          "data": {
            "image/png": "[encoded data removed]",
            "text/plain": [
              "<Figure size 432x288 with 2 Axes>"
            ]
          },
          "metadata": {
            "tags": [],
            "needs_background": "light"
          }
        }
      ]
    },
    {
      "cell_type": "markdown",
      "metadata": {
        "id": "SXmv8V5pqMrr"
      },
      "source": [
        "# **3. Regresyon Algoritmaları Ve Algoritmaların Başarımlarının Karşılaştırılması**"
      ]
    },
    {
      "cell_type": "markdown",
      "metadata": {
        "id": "KZB24lJ32mHs"
      },
      "source": [
        "***Karşılaştırma Metrikleri:***"
      ]
    },
    {
      "cell_type": "markdown",
      "metadata": {
        "id": "hcAnPsIp2QGL"
      },
      "source": [
        "**[MAE] Ortalama Mutlak Hata (Mean Absolute Error):**"
      ]
    },
    {
      "cell_type": "markdown",
      "metadata": {
        "id": "jzRaOn8M2d45"
      },
      "source": [
        "Ortalama mutlak hata, mutlak hata değerinin toplamını alır, hata terimlerinin toplamının daha doğrudan bir temsilidir. MAE, her gerçek değer ile veriye en iyi uyan çizgi arasındaki ortalama dikey mesafedir. MAE aynı zamanda her veri noktası ile en iyi uyan çizgi arasındaki ortalama yatay mesafedir. MAE değeri kolay yorumlanabilir olduğu için regresyon ve zaman serisi problemlerinde sıkça kullanılmaktadır. MAE, yönlerini dikkate almadan bir dizi tahmindeki hataların ortalama büyüklüğünü ölçen, tüm tekil hataların ortalamada eşit olarak ağırlıklandırıldığı doğrusal bir skordur. MAE değeri 0’dan ∞’a kadar değişebilir. Negatif yönelimli puanlar yani daha düşük değerlere sahip tahminleyiciler daha iyi performans gösterir.\n",
        "\n",
        "\n",
        "* $MAE = \\frac{1}{n}\\sum_{j=1}^n |e_j|$"
      ]
    },
    {
      "cell_type": "markdown",
      "metadata": {
        "id": "chT4Airg26Mp"
      },
      "source": [
        "**[MSE] Ortalama Kare Hata  (Mean Squared Error):**"
      ]
    },
    {
      "cell_type": "markdown",
      "metadata": {
        "id": "bnUKfR7i53Kp"
      },
      "source": [
        "Basitçe, ortalama kare hata bir regresyon eğrisinin bir dizi noktaya ne kadar yakın olduğunu söyler. MSE, bir makine öğrenmesi modelinin, tahminleyicinin performansını ölçer, her zaman pozitif değerlidir ve MSE değeri sıfıra yakın olan tahminleyicilerin daha iyi bir performans gösterdiği söylenebilir.\n",
        "\n",
        "\n",
        "* $MSE = \\frac{1}{n}\\sum_{j=1}^n {e_j^2}$\n",
        "\n",
        "\n",
        "---\n",
        "\n",
        "\n",
        "[KAYNAK](https://veribilimcisi.com/2017/07/14/mse-rmse-mae-mape-metrikleri-nedir/#:~:text=%5BMSE%5D%20Ortalama%20Kare%20Hata%20(Mean%20Squared%20Error)%3A&text=MSE%2C%20bir%20makine%20%C3%B6%C4%9Frenmesi%20modelinin,iyi%20bir%20performans%20g%C3%B6sterdi%C4%9Fi%20s%C3%B6ylenebilir.)"
      ]
    },
    {
      "cell_type": "code",
      "metadata": {
        "id": "2gsycxjLrDqS"
      },
      "source": [
        "#algoritmaları oluşturabilmek için veriyi bir takım işlemden geçiriyoruz \n",
        "x = data.iloc[:, 2:7] #bağımsız değişkenler (etiket değerinin oluşmasında etkisi olan,anlamlı kolonlar seçilmiştir)\n",
        "y = data.iloc[:, [7]] #etiket değeri"
      ],
      "execution_count": null,
      "outputs": []
    },
    {
      "cell_type": "code",
      "metadata": {
        "colab": {
          "base_uri": "https://localhost:8080/",
          "height": 417
        },
        "id": "8_sOqK6F85G3",
        "outputId": "33bcf622-ea75-4dcb-de8b-1a8f1dd31448"
      },
      "source": [
        "x #bağımsız değişkenler"
      ],
      "execution_count": null,
      "outputs": [
        {
          "output_type": "execute_result",
          "data": {
            "text/html": [
              "<div>\n",
              "<style scoped>\n",
              "    .dataframe tbody tr th:only-of-type {\n",
              "        vertical-align: middle;\n",
              "    }\n",
              "\n",
              "    .dataframe tbody tr th {\n",
              "        vertical-align: top;\n",
              "    }\n",
              "\n",
              "    .dataframe thead th {\n",
              "        text-align: right;\n",
              "    }\n",
              "</style>\n",
              "<table border=\"1\" class=\"dataframe\">\n",
              "  <thead>\n",
              "    <tr style=\"text-align: right;\">\n",
              "      <th></th>\n",
              "      <th>X2 house age</th>\n",
              "      <th>X3 distance to the nearest MRT station</th>\n",
              "      <th>X4 number of convenience stores</th>\n",
              "      <th>X5 latitude</th>\n",
              "      <th>X6 longitude</th>\n",
              "    </tr>\n",
              "  </thead>\n",
              "  <tbody>\n",
              "    <tr>\n",
              "      <th>0</th>\n",
              "      <td>32.0</td>\n",
              "      <td>84.87882</td>\n",
              "      <td>10</td>\n",
              "      <td>24.98298</td>\n",
              "      <td>121.54024</td>\n",
              "    </tr>\n",
              "    <tr>\n",
              "      <th>1</th>\n",
              "      <td>19.5</td>\n",
              "      <td>306.59470</td>\n",
              "      <td>9</td>\n",
              "      <td>24.98034</td>\n",
              "      <td>121.53951</td>\n",
              "    </tr>\n",
              "    <tr>\n",
              "      <th>2</th>\n",
              "      <td>13.3</td>\n",
              "      <td>561.98450</td>\n",
              "      <td>5</td>\n",
              "      <td>24.98746</td>\n",
              "      <td>121.54391</td>\n",
              "    </tr>\n",
              "    <tr>\n",
              "      <th>3</th>\n",
              "      <td>13.3</td>\n",
              "      <td>561.98450</td>\n",
              "      <td>5</td>\n",
              "      <td>24.98746</td>\n",
              "      <td>121.54391</td>\n",
              "    </tr>\n",
              "    <tr>\n",
              "      <th>4</th>\n",
              "      <td>5.0</td>\n",
              "      <td>390.56840</td>\n",
              "      <td>5</td>\n",
              "      <td>24.97937</td>\n",
              "      <td>121.54245</td>\n",
              "    </tr>\n",
              "    <tr>\n",
              "      <th>...</th>\n",
              "      <td>...</td>\n",
              "      <td>...</td>\n",
              "      <td>...</td>\n",
              "      <td>...</td>\n",
              "      <td>...</td>\n",
              "    </tr>\n",
              "    <tr>\n",
              "      <th>409</th>\n",
              "      <td>13.7</td>\n",
              "      <td>4082.01500</td>\n",
              "      <td>0</td>\n",
              "      <td>24.94155</td>\n",
              "      <td>121.50381</td>\n",
              "    </tr>\n",
              "    <tr>\n",
              "      <th>410</th>\n",
              "      <td>5.6</td>\n",
              "      <td>90.45606</td>\n",
              "      <td>9</td>\n",
              "      <td>24.97433</td>\n",
              "      <td>121.54310</td>\n",
              "    </tr>\n",
              "    <tr>\n",
              "      <th>411</th>\n",
              "      <td>18.8</td>\n",
              "      <td>390.96960</td>\n",
              "      <td>7</td>\n",
              "      <td>24.97923</td>\n",
              "      <td>121.53986</td>\n",
              "    </tr>\n",
              "    <tr>\n",
              "      <th>412</th>\n",
              "      <td>8.1</td>\n",
              "      <td>104.81010</td>\n",
              "      <td>5</td>\n",
              "      <td>24.96674</td>\n",
              "      <td>121.54067</td>\n",
              "    </tr>\n",
              "    <tr>\n",
              "      <th>413</th>\n",
              "      <td>6.5</td>\n",
              "      <td>90.45606</td>\n",
              "      <td>9</td>\n",
              "      <td>24.97433</td>\n",
              "      <td>121.54310</td>\n",
              "    </tr>\n",
              "  </tbody>\n",
              "</table>\n",
              "<p>414 rows × 5 columns</p>\n",
              "</div>"
            ],
            "text/plain": [
              "     X2 house age  ...  X6 longitude\n",
              "0            32.0  ...     121.54024\n",
              "1            19.5  ...     121.53951\n",
              "2            13.3  ...     121.54391\n",
              "3            13.3  ...     121.54391\n",
              "4             5.0  ...     121.54245\n",
              "..            ...  ...           ...\n",
              "409          13.7  ...     121.50381\n",
              "410           5.6  ...     121.54310\n",
              "411          18.8  ...     121.53986\n",
              "412           8.1  ...     121.54067\n",
              "413           6.5  ...     121.54310\n",
              "\n",
              "[414 rows x 5 columns]"
            ]
          },
          "metadata": {
            "tags": []
          },
          "execution_count": 8
        }
      ]
    },
    {
      "cell_type": "code",
      "metadata": {
        "colab": {
          "base_uri": "https://localhost:8080/",
          "height": 417
        },
        "id": "ewlJr06p86I_",
        "outputId": "b6986a0c-451d-463e-9296-3126535257d7"
      },
      "source": [
        "y #etiket değeri"
      ],
      "execution_count": null,
      "outputs": [
        {
          "output_type": "execute_result",
          "data": {
            "text/html": [
              "<div>\n",
              "<style scoped>\n",
              "    .dataframe tbody tr th:only-of-type {\n",
              "        vertical-align: middle;\n",
              "    }\n",
              "\n",
              "    .dataframe tbody tr th {\n",
              "        vertical-align: top;\n",
              "    }\n",
              "\n",
              "    .dataframe thead th {\n",
              "        text-align: right;\n",
              "    }\n",
              "</style>\n",
              "<table border=\"1\" class=\"dataframe\">\n",
              "  <thead>\n",
              "    <tr style=\"text-align: right;\">\n",
              "      <th></th>\n",
              "      <th>Y house price of unit area</th>\n",
              "    </tr>\n",
              "  </thead>\n",
              "  <tbody>\n",
              "    <tr>\n",
              "      <th>0</th>\n",
              "      <td>37.9</td>\n",
              "    </tr>\n",
              "    <tr>\n",
              "      <th>1</th>\n",
              "      <td>42.2</td>\n",
              "    </tr>\n",
              "    <tr>\n",
              "      <th>2</th>\n",
              "      <td>47.3</td>\n",
              "    </tr>\n",
              "    <tr>\n",
              "      <th>3</th>\n",
              "      <td>54.8</td>\n",
              "    </tr>\n",
              "    <tr>\n",
              "      <th>4</th>\n",
              "      <td>43.1</td>\n",
              "    </tr>\n",
              "    <tr>\n",
              "      <th>...</th>\n",
              "      <td>...</td>\n",
              "    </tr>\n",
              "    <tr>\n",
              "      <th>409</th>\n",
              "      <td>15.4</td>\n",
              "    </tr>\n",
              "    <tr>\n",
              "      <th>410</th>\n",
              "      <td>50.0</td>\n",
              "    </tr>\n",
              "    <tr>\n",
              "      <th>411</th>\n",
              "      <td>40.6</td>\n",
              "    </tr>\n",
              "    <tr>\n",
              "      <th>412</th>\n",
              "      <td>52.5</td>\n",
              "    </tr>\n",
              "    <tr>\n",
              "      <th>413</th>\n",
              "      <td>63.9</td>\n",
              "    </tr>\n",
              "  </tbody>\n",
              "</table>\n",
              "<p>414 rows × 1 columns</p>\n",
              "</div>"
            ],
            "text/plain": [
              "     Y house price of unit area\n",
              "0                          37.9\n",
              "1                          42.2\n",
              "2                          47.3\n",
              "3                          54.8\n",
              "4                          43.1\n",
              "..                          ...\n",
              "409                        15.4\n",
              "410                        50.0\n",
              "411                        40.6\n",
              "412                        52.5\n",
              "413                        63.9\n",
              "\n",
              "[414 rows x 1 columns]"
            ]
          },
          "metadata": {
            "tags": []
          },
          "execution_count": 9
        }
      ]
    },
    {
      "cell_type": "code",
      "metadata": {
        "colab": {
          "base_uri": "https://localhost:8080/"
        },
        "id": "_WMemTSLELrn",
        "outputId": "aa026079-3780-4424-ba89-ce2e2c4feafb"
      },
      "source": [
        "print('Tahminleyeceğimiz kolonun min. değeri :', y.min().values)"
      ],
      "execution_count": null,
      "outputs": [
        {
          "output_type": "stream",
          "text": [
            "Tahminleyeceğimiz kolonun min. değeri : [7.6]\n"
          ],
          "name": "stdout"
        }
      ]
    },
    {
      "cell_type": "code",
      "metadata": {
        "colab": {
          "base_uri": "https://localhost:8080/"
        },
        "id": "URpZIodcEQNW",
        "outputId": "e3ab72aa-6606-433f-9589-2cb43895a878"
      },
      "source": [
        "print('Tahminleyeceğimiz kolonun max. değeri :', y.max().values)"
      ],
      "execution_count": null,
      "outputs": [
        {
          "output_type": "stream",
          "text": [
            "Tahminleyeceğimiz kolonun max. değeri : [117.5]\n"
          ],
          "name": "stdout"
        }
      ]
    },
    {
      "cell_type": "code",
      "metadata": {
        "colab": {
          "base_uri": "https://localhost:8080/"
        },
        "id": "ds9f6yxOER4-",
        "outputId": "2f8128c0-e619-4198-bf8e-a16ef1c91530"
      },
      "source": [
        "print('Tahminleyeceğimiz kolonun ortalama değeri :', y.mean().values)"
      ],
      "execution_count": null,
      "outputs": [
        {
          "output_type": "stream",
          "text": [
            "Tahminleyeceğimiz kolonun ortalama değeri : [37.98019324]\n"
          ],
          "name": "stdout"
        }
      ]
    },
    {
      "cell_type": "code",
      "metadata": {
        "colab": {
          "base_uri": "https://localhost:8080/"
        },
        "id": "GxI4gT1TEnuv",
        "outputId": "6f440b9c-b99f-4dd8-c11b-2ba4ec9acee5"
      },
      "source": [
        "print('Tahminleyeceğimiz kolonun standart sapması :', y.std().values)"
      ],
      "execution_count": null,
      "outputs": [
        {
          "output_type": "stream",
          "text": [
            "Tahminleyeceğimiz kolonun standart sapması : [13.6064877]\n"
          ],
          "name": "stdout"
        }
      ]
    },
    {
      "cell_type": "code",
      "metadata": {
        "id": "7p5r9j_7qX03"
      },
      "source": [
        "#test verisi oluşturma\n",
        "X_train, X_test, y_train, y_test = train_test_split(x, y, test_size = 1/3, random_state = 0) #datamızın 1/3 ünü test datası olarak oluşturuyoruz "
      ],
      "execution_count": null,
      "outputs": []
    },
    {
      "cell_type": "markdown",
      "metadata": {
        "id": "nskgHsVbqRKD"
      },
      "source": [
        "> **3.1. Linear Regression**"
      ]
    },
    {
      "cell_type": "code",
      "metadata": {
        "colab": {
          "base_uri": "https://localhost:8080/"
        },
        "id": "eilcHnqhsEJk",
        "outputId": "b35cb61a-9581-4116-9484-601af461bdd6"
      },
      "source": [
        "#Linear Regression modelini oluşturma\n",
        "model1 = LinearRegression()\n",
        "#modeli eğitme\n",
        "model1.fit(X_train, y_train)"
      ],
      "execution_count": null,
      "outputs": [
        {
          "output_type": "execute_result",
          "data": {
            "text/plain": [
              "LinearRegression(copy_X=True, fit_intercept=True, n_jobs=None, normalize=False)"
            ]
          },
          "metadata": {
            "tags": []
          },
          "execution_count": 11
        }
      ]
    },
    {
      "cell_type": "code",
      "metadata": {
        "colab": {
          "base_uri": "https://localhost:8080/"
        },
        "id": "Fxe8VHxOsPkK",
        "outputId": "7af64d23-6752-4c93-a10f-0c50e4da0cee"
      },
      "source": [
        "#test datasıyla modelimize tahmin ürettirelim\n",
        "prediction1 = model1.predict(X_test)\n",
        "print(prediction1)"
      ],
      "execution_count": null,
      "outputs": [
        {
          "output_type": "stream",
          "text": [
            "[[42.27600107]\n",
            " [11.88066953]\n",
            " [41.56323145]\n",
            " [11.71389715]\n",
            " [41.22627523]\n",
            " [40.26059891]\n",
            " [40.02036918]\n",
            " [34.63991015]\n",
            " [48.49462488]\n",
            " [45.19472862]\n",
            " [45.4240369 ]\n",
            " [40.77337368]\n",
            " [41.65817386]\n",
            " [40.32365312]\n",
            " [49.25897325]\n",
            " [36.5215321 ]\n",
            " [40.12781428]\n",
            " [43.27049511]\n",
            " [42.12667539]\n",
            " [43.89597295]\n",
            " [52.48789974]\n",
            " [30.82528604]\n",
            " [41.94530052]\n",
            " [46.63221653]\n",
            " [47.96970752]\n",
            " [44.72447721]\n",
            " [45.18577598]\n",
            " [28.86248024]\n",
            " [48.3692493 ]\n",
            " [23.33152582]\n",
            " [42.824074  ]\n",
            " [33.40495362]\n",
            " [44.9396335 ]\n",
            " [37.00043332]\n",
            " [45.32028957]\n",
            " [30.7714806 ]\n",
            " [48.01512478]\n",
            " [39.48757903]\n",
            " [54.45662565]\n",
            " [ 9.63887061]\n",
            " [51.3915881 ]\n",
            " [34.8101701 ]\n",
            " [36.2878922 ]\n",
            " [48.31735401]\n",
            " [14.17071098]\n",
            " [42.51895914]\n",
            " [44.99436828]\n",
            " [14.77976627]\n",
            " [32.97850517]\n",
            " [46.48132839]\n",
            " [52.272678  ]\n",
            " [41.6785042 ]\n",
            " [49.4607476 ]\n",
            " [24.51652622]\n",
            " [30.85218876]\n",
            " [36.09743177]\n",
            " [49.21404858]\n",
            " [40.94679191]\n",
            " [45.53164777]\n",
            " [33.51256449]\n",
            " [42.586153  ]\n",
            " [42.5649267 ]\n",
            " [40.51298058]\n",
            " [48.65604119]\n",
            " [39.23183528]\n",
            " [30.17424723]\n",
            " [12.05956168]\n",
            " [33.29112578]\n",
            " [49.4023676 ]\n",
            " [40.26059891]\n",
            " [32.49546241]\n",
            " [48.47686017]\n",
            " [44.3188317 ]\n",
            " [32.60885463]\n",
            " [40.86534317]\n",
            " [34.8204362 ]\n",
            " [33.88429909]\n",
            " [14.74098981]\n",
            " [46.55150838]\n",
            " [44.10405846]\n",
            " [46.14924442]\n",
            " [30.09891266]\n",
            " [42.48404811]\n",
            " [29.73985682]\n",
            " [34.17653566]\n",
            " [31.98368534]\n",
            " [40.93464069]\n",
            " [45.14958986]\n",
            " [53.32396668]\n",
            " [47.8123276 ]\n",
            " [43.27049511]\n",
            " [42.21443391]\n",
            " [30.74457789]\n",
            " [32.79428202]\n",
            " [24.81460904]\n",
            " [39.91684384]\n",
            " [33.44795233]\n",
            " [42.40980874]\n",
            " [14.56454453]\n",
            " [44.879674  ]\n",
            " [43.27049511]\n",
            " [42.12667539]\n",
            " [43.17210232]\n",
            " [44.25416005]\n",
            " [41.60436843]\n",
            " [30.95979963]\n",
            " [42.24136784]\n",
            " [ 7.61437917]\n",
            " [42.5587035 ]\n",
            " [14.95088979]\n",
            " [46.70128081]\n",
            " [42.86255793]\n",
            " [32.8476207 ]\n",
            " [42.49642348]\n",
            " [48.63335925]\n",
            " [40.26615288]\n",
            " [46.09868908]\n",
            " [40.35055583]\n",
            " [37.48817544]\n",
            " [30.86245126]\n",
            " [34.79353348]\n",
            " [38.64703848]\n",
            " [30.7714806 ]\n",
            " [44.20035462]\n",
            " [52.51480245]\n",
            " [44.08722007]\n",
            " [52.29958071]\n",
            " [47.86797183]\n",
            " [14.73908263]\n",
            " [43.86345206]\n",
            " [39.97665751]\n",
            " [54.3759175 ]\n",
            " [52.4340943 ]\n",
            " [29.52311101]\n",
            " [34.03981211]\n",
            " [13.76197338]\n",
            " [39.79895145]\n",
            " [42.65783979]]\n"
          ],
          "name": "stdout"
        }
      ]
    },
    {
      "cell_type": "code",
      "metadata": {
        "colab": {
          "base_uri": "https://localhost:8080/"
        },
        "id": "pKSfLRWTFgTf",
        "outputId": "0a5bf243-1905-4b5a-95e3-900b58b85259"
      },
      "source": [
        "print('Oluşturduğumuz modelin min. değeri :', prediction1.min())"
      ],
      "execution_count": null,
      "outputs": [
        {
          "output_type": "stream",
          "text": [
            "Oluşturduğumuz modelin min. değeri : 7.614379174116948\n"
          ],
          "name": "stdout"
        }
      ]
    },
    {
      "cell_type": "code",
      "metadata": {
        "colab": {
          "base_uri": "https://localhost:8080/"
        },
        "id": "vUGnUVsUFgTh",
        "outputId": "ce61947a-20f4-4460-bfc9-51eac344acfb"
      },
      "source": [
        "print('Oluşturduğumuz modelin max. değeri :', prediction1.max())"
      ],
      "execution_count": null,
      "outputs": [
        {
          "output_type": "stream",
          "text": [
            "Tahminleyeceğimiz kolonun max. değeri : 54.45662565008024\n"
          ],
          "name": "stdout"
        }
      ]
    },
    {
      "cell_type": "code",
      "metadata": {
        "colab": {
          "base_uri": "https://localhost:8080/"
        },
        "id": "JWYEBcuJFgTh",
        "outputId": "f9913731-838f-49a4-d4ef-c489be6fc191"
      },
      "source": [
        "print('Oluşturduğumuz modelin ortalama değeri :', prediction1.mean())"
      ],
      "execution_count": null,
      "outputs": [
        {
          "output_type": "stream",
          "text": [
            "Tahminleyeceğimiz kolonun ortalama değeri : 38.56440112591204\n"
          ],
          "name": "stdout"
        }
      ]
    },
    {
      "cell_type": "code",
      "metadata": {
        "colab": {
          "base_uri": "https://localhost:8080/"
        },
        "id": "Fj0eZX-5FgTh",
        "outputId": "42bb40bb-6a03-4e2d-a5d0-29a558fc6e77"
      },
      "source": [
        "print('Oluşturduğumuz modelin standart sapması :', prediction1.std())"
      ],
      "execution_count": null,
      "outputs": [
        {
          "output_type": "stream",
          "text": [
            "Oluşturduğumuz modelin standart sapması : 10.270305405172293\n"
          ],
          "name": "stdout"
        }
      ]
    },
    {
      "cell_type": "code",
      "metadata": {
        "colab": {
          "base_uri": "https://localhost:8080/"
        },
        "id": "Pfa-rFQAvHqq",
        "outputId": "586ed2aa-6a15-4bf8-ca52-9ced9e8ca88d"
      },
      "source": [
        "print('Modelin Başarısı:', model1.score(x,y)) "
      ],
      "execution_count": null,
      "outputs": [
        {
          "output_type": "stream",
          "text": [
            "Modelin Başarısı: 0.5694838529007007\n"
          ],
          "name": "stdout"
        }
      ]
    },
    {
      "cell_type": "code",
      "metadata": {
        "colab": {
          "base_uri": "https://localhost:8080/"
        },
        "id": "CU4eTgPXyJSY",
        "outputId": "5abf290d-31a1-4bdb-a1c5-8663f03fdfa9"
      },
      "source": [
        "print('Mean Absolute Error:', metrics.mean_absolute_error(y_test, prediction1))  "
      ],
      "execution_count": null,
      "outputs": [
        {
          "output_type": "stream",
          "text": [
            "Mean Absolute Error: 6.129313170612806\n"
          ],
          "name": "stdout"
        }
      ]
    },
    {
      "cell_type": "code",
      "metadata": {
        "colab": {
          "base_uri": "https://localhost:8080/"
        },
        "id": "aEtvpKuJ0_Nq",
        "outputId": "62148797-28ff-4231-db96-82397203358b"
      },
      "source": [
        "print('Mean Squared Error:', metrics.mean_squared_error(y_test, prediction1))  "
      ],
      "execution_count": null,
      "outputs": [
        {
          "output_type": "stream",
          "text": [
            "Mean Squared Error: 72.4153035092044\n"
          ],
          "name": "stdout"
        }
      ]
    },
    {
      "cell_type": "markdown",
      "metadata": {
        "id": "Q-5_mvDh7gDr"
      },
      "source": [
        "> **3.2. Extra Trees Regressor**"
      ]
    },
    {
      "cell_type": "code",
      "metadata": {
        "colab": {
          "base_uri": "https://localhost:8080/"
        },
        "id": "Nw99BCy38zKo",
        "outputId": "7fbb8105-5c91-4188-f45d-17086bd22dff"
      },
      "source": [
        "#Extra Tress Regressor modelini oluşturma\n",
        "model2 = ExtraTreesRegressor()\n",
        "#modeli eğitme\n",
        "model2.fit(X_train,y_train)"
      ],
      "execution_count": null,
      "outputs": [
        {
          "output_type": "stream",
          "text": [
            "/usr/local/lib/python3.7/dist-packages/ipykernel_launcher.py:4: DataConversionWarning: A column-vector y was passed when a 1d array was expected. Please change the shape of y to (n_samples,), for example using ravel().\n",
            "  after removing the cwd from sys.path.\n"
          ],
          "name": "stderr"
        },
        {
          "output_type": "execute_result",
          "data": {
            "text/plain": [
              "ExtraTreesRegressor(bootstrap=False, ccp_alpha=0.0, criterion='mse',\n",
              "                    max_depth=None, max_features='auto', max_leaf_nodes=None,\n",
              "                    max_samples=None, min_impurity_decrease=0.0,\n",
              "                    min_impurity_split=None, min_samples_leaf=1,\n",
              "                    min_samples_split=2, min_weight_fraction_leaf=0.0,\n",
              "                    n_estimators=100, n_jobs=None, oob_score=False,\n",
              "                    random_state=None, verbose=0, warm_start=False)"
            ]
          },
          "metadata": {
            "tags": []
          },
          "execution_count": 13
        }
      ]
    },
    {
      "cell_type": "code",
      "metadata": {
        "colab": {
          "base_uri": "https://localhost:8080/"
        },
        "id": "8l03s3QF_EkJ",
        "outputId": "97af84e8-9386-48bb-cb2f-ed954946c8e4"
      },
      "source": [
        "#test datasıyla modelimize tahmin ürettirelim\n",
        "prediction2 = model2.predict(X_test)\n",
        "print(prediction2)"
      ],
      "execution_count": null,
      "outputs": [
        {
          "output_type": "stream",
          "text": [
            "[82.6575     17.595      40.469      21.632      29.1        38.84266667\n",
            " 44.121      36.7        48.671      46.71       42.1115     32.7895\n",
            " 42.423      44.3725     62.9358     45.927      36.52966667 48.85\n",
            " 42.428      40.453      56.463      28.9        36.5595     49.67266667\n",
            " 55.3296     43.688      44.54266667 25.466      51.998      21.996\n",
            " 38.75133333 22.923      47.85       37.994      44.34733333 28.8355\n",
            " 45.636      21.72       55.8415     11.751      50.8        37.611\n",
            " 27.7165     43.82       15.614      39.737      38.083      14.39\n",
            " 26.104      53.303      60.1195     34.445      44.083      18.52\n",
            " 28.9        36.53316667 55.         35.674      42.277      22.972\n",
            " 37.644      57.267      41.6365     48.1805     40.40133333 26.839\n",
            " 21.809      22.879      58.415      38.84266667 22.41       52.214\n",
            " 44.339      25.44       38.175      29.55       27.8015     17.991\n",
            " 46.1        37.773      48.124      27.8135     37.60866667 24.384\n",
            " 27.8785     36.796      39.82083333 32.2        45.         47.56666667\n",
            " 48.85       39.5465     28.765      25.3535     13.882      38.609\n",
            " 29.818      41.45233333 18.3        45.6045     48.85       42.428\n",
            " 40.215      37.353      40.509      28.9        40.82       17.364\n",
            " 44.1995     20.         46.763      38.96       29.399      38.336\n",
            " 49.6979     29.782      53.695      44.2385     34.08016667 26.712\n",
            " 29.472      34.146      28.8355     37.619      56.601      41.038\n",
            " 62.2        57.685      19.786      47.46       36.976      54.8225\n",
            " 56.3        23.95       31.1175     39.106      38.562      37.99466667]\n"
          ],
          "name": "stdout"
        }
      ]
    },
    {
      "cell_type": "code",
      "metadata": {
        "colab": {
          "base_uri": "https://localhost:8080/"
        },
        "id": "GzldQNF9Hnn_",
        "outputId": "c6990b78-7e86-4ea1-b353-df4349958260"
      },
      "source": [
        "print('Oluşturduğumuz modelin min. değeri :', prediction2.min())"
      ],
      "execution_count": null,
      "outputs": [
        {
          "output_type": "stream",
          "text": [
            "Oluşturduğumuz modelin min. değeri : 11.751000000000023\n"
          ],
          "name": "stdout"
        }
      ]
    },
    {
      "cell_type": "code",
      "metadata": {
        "colab": {
          "base_uri": "https://localhost:8080/"
        },
        "id": "-a5l8HRIHnoB",
        "outputId": "0d75a4c9-6568-435b-ceaa-768a51d8e632"
      },
      "source": [
        "print('Oluşturduğumuz modelin max. değeri :', prediction2.max())"
      ],
      "execution_count": null,
      "outputs": [
        {
          "output_type": "stream",
          "text": [
            "Oluşturduğumuz modelin max. değeri : 82.65750000000006\n"
          ],
          "name": "stdout"
        }
      ]
    },
    {
      "cell_type": "code",
      "metadata": {
        "colab": {
          "base_uri": "https://localhost:8080/"
        },
        "id": "j6ZCaE7dHnoB",
        "outputId": "560a054c-f87f-43b4-e13b-1f6d24498bfc"
      },
      "source": [
        "print('Oluşturduğumuz modelin ortalama değeri :', prediction2.mean())"
      ],
      "execution_count": null,
      "outputs": [
        {
          "output_type": "stream",
          "text": [
            "Oluşturduğumuz modelin ortalama değeri : 38.11839951690821\n"
          ],
          "name": "stdout"
        }
      ]
    },
    {
      "cell_type": "code",
      "metadata": {
        "colab": {
          "base_uri": "https://localhost:8080/"
        },
        "id": "qPcaGo42HnoC",
        "outputId": "40838e4c-0366-4025-de59-37ce05cadc7b"
      },
      "source": [
        "print('Oluşturduğumuz modelin standart sapması :', prediction2.std())"
      ],
      "execution_count": null,
      "outputs": [
        {
          "output_type": "stream",
          "text": [
            "Oluşturduğumuz modelin standart sapması : 12.065833497929525\n"
          ],
          "name": "stdout"
        }
      ]
    },
    {
      "cell_type": "code",
      "metadata": {
        "colab": {
          "base_uri": "https://localhost:8080/"
        },
        "id": "aev7eIoYAhHZ",
        "outputId": "2a7613f2-4f3b-404f-b379-705e925283b3"
      },
      "source": [
        "print('Modelin Başarısı:', model2.score(x,y)) "
      ],
      "execution_count": null,
      "outputs": [
        {
          "output_type": "stream",
          "text": [
            "Modelin Başarısı: 0.871277487793394\n"
          ],
          "name": "stdout"
        }
      ]
    },
    {
      "cell_type": "code",
      "metadata": {
        "colab": {
          "base_uri": "https://localhost:8080/"
        },
        "id": "LFP689ZjAhHZ",
        "outputId": "67ca1c9b-3209-41cd-9c79-715dfe696d02"
      },
      "source": [
        "print('Mean Absolute Error:', metrics.mean_absolute_error(y_test, prediction2))  "
      ],
      "execution_count": null,
      "outputs": [
        {
          "output_type": "stream",
          "text": [
            "Mean Absolute Error: 5.3089236714975865\n"
          ],
          "name": "stdout"
        }
      ]
    },
    {
      "cell_type": "code",
      "metadata": {
        "colab": {
          "base_uri": "https://localhost:8080/"
        },
        "id": "_Ic_tCTcAhHa",
        "outputId": "63be02e9-d2b8-40be-f811-08b39a162f1f"
      },
      "source": [
        "print('Mean Squared Error:', metrics.mean_squared_error(y_test, prediction2))  "
      ],
      "execution_count": null,
      "outputs": [
        {
          "output_type": "stream",
          "text": [
            "Mean Squared Error: 67.95522383666666\n"
          ],
          "name": "stdout"
        }
      ]
    },
    {
      "cell_type": "markdown",
      "metadata": {
        "id": "DlK98OXuBAla"
      },
      "source": [
        "> **3.3. Ada Boost Regressor**"
      ]
    },
    {
      "cell_type": "code",
      "metadata": {
        "colab": {
          "base_uri": "https://localhost:8080/"
        },
        "id": "xWpkeritBAlb",
        "outputId": "661a21a3-4468-4a2a-e8a7-ba7b7c5c04f0"
      },
      "source": [
        "#AdaBoost Regressor modelini oluşturma\n",
        "model3 = AdaBoostRegressor()\n",
        "#modeli eğitme\n",
        "model3.fit(X_train,y_train)"
      ],
      "execution_count": null,
      "outputs": [
        {
          "output_type": "stream",
          "text": [
            "/usr/local/lib/python3.7/dist-packages/sklearn/utils/validation.py:760: DataConversionWarning: A column-vector y was passed when a 1d array was expected. Please change the shape of y to (n_samples, ), for example using ravel().\n",
            "  y = column_or_1d(y, warn=True)\n"
          ],
          "name": "stderr"
        },
        {
          "output_type": "execute_result",
          "data": {
            "text/plain": [
              "AdaBoostRegressor(base_estimator=None, learning_rate=1.0, loss='linear',\n",
              "                  n_estimators=50, random_state=None)"
            ]
          },
          "metadata": {
            "tags": []
          },
          "execution_count": 18
        }
      ]
    },
    {
      "cell_type": "code",
      "metadata": {
        "colab": {
          "base_uri": "https://localhost:8080/"
        },
        "id": "iyMnGno1BAlb",
        "outputId": "289b3673-c141-4af9-dccb-86b94b2224d1"
      },
      "source": [
        "#test datasıyla modelimize tahmin ürettirelim\n",
        "prediction3 = model3.predict(X_test)\n",
        "print(prediction3)"
      ],
      "execution_count": null,
      "outputs": [
        {
          "output_type": "stream",
          "text": [
            "[44.26826347 21.58       46.25104167 21.58       38.88421053 42.27734375\n",
            " 48.50461538 37.88076923 57.61204819 44.58       48.3744186  37.09189189\n",
            " 38.88421053 43.57575758 57.61204819 49.02686567 40.71860465 45.23421053\n",
            " 41.30428571 44.84670659 53.91428571 25.65714286 39.21452991 50.04931507\n",
            " 50.04931507 41.30428571 40.71860465 25.09090909 50.04931507 26.70857143\n",
            " 37.88076923 30.67910448 51.41111111 46.25104167 40.71860465 25.65714286\n",
            " 48.3744186  30.435      50.88854167 23.22564103 45.23421053 42.15089286\n",
            " 25.65714286 48.3744186  21.86578947 38.49512195 44.15048544 22.01842105\n",
            " 25.65714286 44.40645161 53.91428571 44.58       44.58       23.37291667\n",
            " 25.65714286 40.71860465 50.77865169 42.14782609 48.3744186  30.67910448\n",
            " 44.58       57.26       37.88076923 56.21351351 43.57575758 25.09090909\n",
            " 21.58       28.69565217 50.77865169 42.27734375 28.05142857 50.04931507\n",
            " 50.04931507 25.1575     44.58       25.65714286 25.65714286 22.01842105\n",
            " 50.04931507 36.5137931  50.31866667 25.65714286 44.58       24.912\n",
            " 25.65714286 37.86949153 40.71860465 36.19       50.88854167 48.3744186\n",
            " 45.23421053 40.18110236 25.65714286 28.05142857 23.37291667 44.58\n",
            " 25.1575     38.49512195 21.86578947 43.41111111 45.23421053 41.30428571\n",
            " 45.14086022 36.5137931  38.88421053 25.96388889 41.30428571 22.01842105\n",
            " 42.14782609 22.01842105 46.25104167 42.14782609 36.19       42.15089286\n",
            " 44.84670659 39.78405797 45.14086022 43.57575758 38.32933333 25.09090909\n",
            " 25.65714286 38.88421053 25.65714286 36.5137931  53.91428571 45.14086022\n",
            " 53.91428571 46.55454545 21.58       48.658      41.30428571 50.88854167\n",
            " 53.91428571 24.87083333 25.65714286 34.56666667 42.27734375 42.15089286]\n"
          ],
          "name": "stdout"
        }
      ]
    },
    {
      "cell_type": "code",
      "metadata": {
        "colab": {
          "base_uri": "https://localhost:8080/"
        },
        "id": "85pQro4JH1JK",
        "outputId": "f662960b-a953-4167-c2d4-2e3672b3445d"
      },
      "source": [
        "print('Oluşturduğumuz modelin min. değeri :', prediction3.min())"
      ],
      "execution_count": null,
      "outputs": [
        {
          "output_type": "stream",
          "text": [
            "Oluşturduğumuz modelin min. değeri : 21.58\n"
          ],
          "name": "stdout"
        }
      ]
    },
    {
      "cell_type": "code",
      "metadata": {
        "colab": {
          "base_uri": "https://localhost:8080/"
        },
        "id": "6L7BcEOmH1JL",
        "outputId": "edce1524-bec0-44b5-f846-5085ddfb7846"
      },
      "source": [
        "print('Oluşturduğumuz modelin max. değeri :', prediction3.max())"
      ],
      "execution_count": null,
      "outputs": [
        {
          "output_type": "stream",
          "text": [
            "Oluşturduğumuz modelin max. değeri : 57.612048192771105\n"
          ],
          "name": "stdout"
        }
      ]
    },
    {
      "cell_type": "code",
      "metadata": {
        "colab": {
          "base_uri": "https://localhost:8080/"
        },
        "id": "zWb_UFJ8H1JL",
        "outputId": "38e48942-e72a-49a6-d292-8a92a7ef6c36"
      },
      "source": [
        "print('Oluşturduğumuz modelin ortalama değeri :', prediction3.mean())"
      ],
      "execution_count": null,
      "outputs": [
        {
          "output_type": "stream",
          "text": [
            "Oluşturduğumuz modelin ortalama değeri : 38.87107333543173\n"
          ],
          "name": "stdout"
        }
      ]
    },
    {
      "cell_type": "code",
      "metadata": {
        "colab": {
          "base_uri": "https://localhost:8080/"
        },
        "id": "0LNIagEbH1JL",
        "outputId": "06bb09ac-7a0e-4c94-c2ba-6b9376516cee"
      },
      "source": [
        "print('Oluşturduğumuz modelin standart sapması :', prediction3.std())"
      ],
      "execution_count": null,
      "outputs": [
        {
          "output_type": "stream",
          "text": [
            "Oluşturduğumuz modelin standart sapması : 10.162830124251352\n"
          ],
          "name": "stdout"
        }
      ]
    },
    {
      "cell_type": "code",
      "metadata": {
        "colab": {
          "base_uri": "https://localhost:8080/"
        },
        "id": "ERZ-J_w6BAlb",
        "outputId": "d383ebe0-d189-47f0-898e-fd6182ba677a"
      },
      "source": [
        "print('Modelin Başarısı:', model3.score(x,y)) "
      ],
      "execution_count": null,
      "outputs": [
        {
          "output_type": "stream",
          "text": [
            "Modelin Başarısı: 0.766922125067489\n"
          ],
          "name": "stdout"
        }
      ]
    },
    {
      "cell_type": "code",
      "metadata": {
        "colab": {
          "base_uri": "https://localhost:8080/"
        },
        "id": "daPYH5MbBAlb",
        "outputId": "e5fc7104-cadf-4b0b-a31c-f541bddc3403"
      },
      "source": [
        "print('Mean Absolute Error:', metrics.mean_absolute_error(y_test, prediction3))  "
      ],
      "execution_count": null,
      "outputs": [
        {
          "output_type": "stream",
          "text": [
            "Mean Absolute Error: 5.57084560664466\n"
          ],
          "name": "stdout"
        }
      ]
    },
    {
      "cell_type": "code",
      "metadata": {
        "colab": {
          "base_uri": "https://localhost:8080/"
        },
        "id": "mSRpXav5BAlc",
        "outputId": "58f1eaa9-b0a2-49c5-e9e2-9605cd46348e"
      },
      "source": [
        "print('Mean Squared Error:', metrics.mean_squared_error(y_test, prediction3))  "
      ],
      "execution_count": null,
      "outputs": [
        {
          "output_type": "stream",
          "text": [
            "Mean Squared Error: 62.21563826809904\n"
          ],
          "name": "stdout"
        }
      ]
    },
    {
      "cell_type": "markdown",
      "metadata": {
        "id": "F5o4IKPECZYR"
      },
      "source": [
        "> **3.4. Bagging Regressor**"
      ]
    },
    {
      "cell_type": "code",
      "metadata": {
        "colab": {
          "base_uri": "https://localhost:8080/"
        },
        "id": "l02csknoCZYR",
        "outputId": "4d74c83c-4f87-4f58-de12-1a06b3698b25"
      },
      "source": [
        "#Bagging Regressor modelini oluşturma\n",
        "model4 = BaggingRegressor()\n",
        "#modeli eğitme\n",
        "model4.fit(X_train,y_train)"
      ],
      "execution_count": null,
      "outputs": [
        {
          "output_type": "stream",
          "text": [
            "/usr/local/lib/python3.7/dist-packages/sklearn/ensemble/_bagging.py:399: DataConversionWarning: A column-vector y was passed when a 1d array was expected. Please change the shape of y to (n_samples, ), for example using ravel().\n",
            "  return column_or_1d(y, warn=True)\n"
          ],
          "name": "stderr"
        },
        {
          "output_type": "execute_result",
          "data": {
            "text/plain": [
              "BaggingRegressor(base_estimator=None, bootstrap=True, bootstrap_features=False,\n",
              "                 max_features=1.0, max_samples=1.0, n_estimators=10,\n",
              "                 n_jobs=None, oob_score=False, random_state=None, verbose=0,\n",
              "                 warm_start=False)"
            ]
          },
          "metadata": {
            "tags": []
          },
          "execution_count": 74
        }
      ]
    },
    {
      "cell_type": "code",
      "metadata": {
        "colab": {
          "base_uri": "https://localhost:8080/"
        },
        "id": "gETFZnqXCZYR",
        "outputId": "2ab203a8-5480-4253-f404-7211be69a03c"
      },
      "source": [
        "#test datasıyla modelimize tahmin ürettirelim\n",
        "prediction4 = model4.predict(X_test)\n",
        "print(prediction4)"
      ],
      "execution_count": null,
      "outputs": [
        {
          "output_type": "stream",
          "text": [
            "[82.09333333 18.05       38.61       18.47       39.05       40.8\n",
            " 40.26       35.4        63.4        48.88       40.08733333 27.56\n",
            " 43.46333333 41.26       59.21       48.24       37.94       46.91833333\n",
            " 41.00333333 40.01       56.48       26.59       35.99       50.59504762\n",
            " 56.3825     42.2875     44.66       24.7025     52.71       20.79\n",
            " 41.16166667 29.34       50.7465     35.55       44.865      26.59\n",
            " 45.86       23.41       53.16666667 16.39       52.12458333 35.92\n",
            " 29.46       44.72       16.82       45.17       39.3        14.27\n",
            " 27.025      54.2        59.973      40.81       45.16       16.77\n",
            " 26.59       35.11       54.88       36.73       43.07       29.34\n",
            " 40.81       58.51       47.57       49.59       38.98       27.28\n",
            " 20.04       22.48       55.91       40.8        23.28       50.86\n",
            " 40.47       25.45       42.34       29.72666667 27.7        16.06\n",
            " 47.12       37.12       46.95       27.04166667 40.58       24.99\n",
            " 28.58       35.78       40.45       32.83       49.04       47.84083333\n",
            " 46.91833333 39.741      26.59       27.01333333 13.93       42.11\n",
            " 27.8325     39.126      18.32       43.28       46.91833333 41.00333333\n",
            " 43.21       35.85       43.46333333 26.59       39.63       17.54\n",
            " 40.47       18.24       61.65       39.31       31.82       36.67\n",
            " 46.94       38.66       49.74       41.26       35.71       26.23\n",
            " 29.72666667 35.91       26.59       35.85       58.21333333 40.35\n",
            " 59.748      55.74       17.9        43.35       38.21       53.16666667\n",
            " 56.48       24.7        29.09       35.07       38.24       36.67      ]\n"
          ],
          "name": "stdout"
        }
      ]
    },
    {
      "cell_type": "code",
      "metadata": {
        "colab": {
          "base_uri": "https://localhost:8080/"
        },
        "id": "gc1pTmpcII6L",
        "outputId": "e7c6af56-1b69-4903-9989-04ee1d9cd607"
      },
      "source": [
        "print('Oluşturduğumuz modelin min. değeri :', prediction4.min())"
      ],
      "execution_count": null,
      "outputs": [
        {
          "output_type": "stream",
          "text": [
            "Oluşturduğumuz modelin min. değeri : 13.929999999999998\n"
          ],
          "name": "stdout"
        }
      ]
    },
    {
      "cell_type": "code",
      "metadata": {
        "colab": {
          "base_uri": "https://localhost:8080/"
        },
        "id": "-a4KIigaII6M",
        "outputId": "8bc1209d-6703-4e08-d87c-7349624caa72"
      },
      "source": [
        "print('Oluşturduğumuz modelin max. değeri :', prediction4.max())"
      ],
      "execution_count": null,
      "outputs": [
        {
          "output_type": "stream",
          "text": [
            "Oluşturduğumuz modelin max. değeri : 82.09333333333333\n"
          ],
          "name": "stdout"
        }
      ]
    },
    {
      "cell_type": "code",
      "metadata": {
        "colab": {
          "base_uri": "https://localhost:8080/"
        },
        "id": "IKps8YVQII6M",
        "outputId": "e9ea59e5-0dbf-4c4b-a6e0-16188385c1e9"
      },
      "source": [
        "print('Oluşturduğumuz modelin ortalama değeri :', prediction4.mean())"
      ],
      "execution_count": null,
      "outputs": [
        {
          "output_type": "stream",
          "text": [
            "Oluşturduğumuz modelin ortalama değeri : 38.35772196342305\n"
          ],
          "name": "stdout"
        }
      ]
    },
    {
      "cell_type": "code",
      "metadata": {
        "colab": {
          "base_uri": "https://localhost:8080/"
        },
        "id": "EMAAMBBrII6M",
        "outputId": "dd0d4100-a5a3-4541-a46d-e26092284200"
      },
      "source": [
        "print('Oluşturduğumuz modelin standart sapması :', prediction4.std())"
      ],
      "execution_count": null,
      "outputs": [
        {
          "output_type": "stream",
          "text": [
            "Oluşturduğumuz modelin standart sapması : 12.216765634058408\n"
          ],
          "name": "stdout"
        }
      ]
    },
    {
      "cell_type": "code",
      "metadata": {
        "colab": {
          "base_uri": "https://localhost:8080/"
        },
        "id": "FnxadgKmCZYR",
        "outputId": "dbfd2e7a-4369-4999-bf9e-2e27b24b9296"
      },
      "source": [
        "print('Modelin Başarısı:', model4.score(x,y)) "
      ],
      "execution_count": null,
      "outputs": [
        {
          "output_type": "stream",
          "text": [
            "Modelin Başarısı: 0.8239321984224559\n"
          ],
          "name": "stdout"
        }
      ]
    },
    {
      "cell_type": "code",
      "metadata": {
        "colab": {
          "base_uri": "https://localhost:8080/"
        },
        "id": "tmD_XxQLCZYS",
        "outputId": "e472dd79-053e-45af-ae9b-9a4064a1fffc"
      },
      "source": [
        "print('Mean Absolute Error:', metrics.mean_absolute_error(y_test, prediction4))  "
      ],
      "execution_count": null,
      "outputs": [
        {
          "output_type": "stream",
          "text": [
            "Mean Absolute Error: 5.47242417184265\n"
          ],
          "name": "stdout"
        }
      ]
    },
    {
      "cell_type": "code",
      "metadata": {
        "colab": {
          "base_uri": "https://localhost:8080/"
        },
        "id": "wW6uiw4tCZYS",
        "outputId": "802cf29f-f8a0-456c-ec0d-04445df997b3"
      },
      "source": [
        "print('Mean Squared Error:', metrics.mean_squared_error(y_test, prediction4))  "
      ],
      "execution_count": null,
      "outputs": [
        {
          "output_type": "stream",
          "text": [
            "Mean Squared Error: 74.95408441017716\n"
          ],
          "name": "stdout"
        }
      ]
    },
    {
      "cell_type": "markdown",
      "metadata": {
        "id": "FW_2syBJDcvN"
      },
      "source": [
        "> **3.5. Random Forest Regressor**"
      ]
    },
    {
      "cell_type": "code",
      "metadata": {
        "colab": {
          "base_uri": "https://localhost:8080/"
        },
        "id": "-cIIlZOPDcvN",
        "outputId": "04faa668-c4b0-408e-ac67-cb62b95e9e1f"
      },
      "source": [
        "#Random Forest Regressor modelini oluşturma\n",
        "model5 = RandomForestRegressor()\n",
        "#modeli eğitme\n",
        "model5.fit(X_train,y_train)"
      ],
      "execution_count": null,
      "outputs": [
        {
          "output_type": "stream",
          "text": [
            "/usr/local/lib/python3.7/dist-packages/ipykernel_launcher.py:4: DataConversionWarning: A column-vector y was passed when a 1d array was expected. Please change the shape of y to (n_samples,), for example using ravel().\n",
            "  after removing the cwd from sys.path.\n"
          ],
          "name": "stderr"
        },
        {
          "output_type": "execute_result",
          "data": {
            "text/plain": [
              "RandomForestRegressor(bootstrap=True, ccp_alpha=0.0, criterion='mse',\n",
              "                      max_depth=None, max_features='auto', max_leaf_nodes=None,\n",
              "                      max_samples=None, min_impurity_decrease=0.0,\n",
              "                      min_impurity_split=None, min_samples_leaf=1,\n",
              "                      min_samples_split=2, min_weight_fraction_leaf=0.0,\n",
              "                      n_estimators=100, n_jobs=None, oob_score=False,\n",
              "                      random_state=None, verbose=0, warm_start=False)"
            ]
          },
          "metadata": {
            "tags": []
          },
          "execution_count": 28
        }
      ]
    },
    {
      "cell_type": "code",
      "metadata": {
        "colab": {
          "base_uri": "https://localhost:8080/"
        },
        "id": "SI8vcm31DcvO",
        "outputId": "ada72b8b-6b6e-43d4-dbd1-f0401142d5ff"
      },
      "source": [
        "#test datasıyla modelimize tahmin ürettirelim\n",
        "prediction5 = model5.predict(X_test)\n",
        "print(prediction5)"
      ],
      "execution_count": null,
      "outputs": [
        {
          "output_type": "stream",
          "text": [
            "[73.89486667 18.269      42.5245     20.685      32.05373333 40.909\n",
            " 41.344      36.488      51.73447143 46.37116667 42.35266667 29.34756667\n",
            " 35.3228     42.46866667 60.21756429 43.86       37.735      48.74653333\n",
            " 40.689      40.487      57.096      27.98793333 35.602      50.42219444\n",
            " 53.81657143 43.98483333 44.4615     23.8465     52.272      22.826\n",
            " 40.03318333 27.612      54.968625   39.837      44.3681     27.98793333\n",
            " 46.971      25.1335     55.04823333 14.911      51.21442857 35.854\n",
            " 28.33       46.10666667 16.295      43.58691667 39.387      14.045\n",
            " 24.43275    53.06933333 60.62305    36.839      43.9835     18.98933333\n",
            " 27.98793333 37.19       55.168      37.03533333 43.418      27.723\n",
            " 38.221      57.992      38.55005    51.37347143 40.89966667 26.924\n",
            " 21.216      21.3535     55.812      40.909      23.916      51.741\n",
            " 42.121      24.504      40.2225     29.71280714 27.63083333 17.814\n",
            " 46.98213333 36.07       49.3425     27.21833333 39.436      25.224\n",
            " 28.93926667 36.533      42.16891667 32.966      47.8265     47.76204881\n",
            " 48.74653333 35.51619048 27.98093333 25.50766667 14.441      39.956\n",
            " 29.2345     39.95566667 17.96       42.645      48.74653333 40.689\n",
            " 42.84       34.98325    35.3398     27.98793333 39.95       16.9205\n",
            " 42.7175     18.561      49.8959     39.0665     32.478      39.811\n",
            " 46.025      34.29075    51.113      42.46866667 34.8565     26.853\n",
            " 29.71280714 35.3945     27.98793333 35.083      57.428      43.266\n",
            " 60.5245     55.83966667 18.288      42.794      39.0675     55.04823333\n",
            " 57.005      26.201      29.76625    37.583      38.275      39.836     ]\n"
          ],
          "name": "stdout"
        }
      ]
    },
    {
      "cell_type": "code",
      "metadata": {
        "colab": {
          "base_uri": "https://localhost:8080/"
        },
        "id": "nYyUc7u9IiVb",
        "outputId": "8fa6417d-2654-4936-dff0-d11c84bc96c3"
      },
      "source": [
        "print('Oluşturduğumuz modelin min. değeri :', prediction5.min())"
      ],
      "execution_count": null,
      "outputs": [
        {
          "output_type": "stream",
          "text": [
            "Oluşturduğumuz modelin min. değeri : 14.044999999999995\n"
          ],
          "name": "stdout"
        }
      ]
    },
    {
      "cell_type": "code",
      "metadata": {
        "colab": {
          "base_uri": "https://localhost:8080/"
        },
        "id": "RVOCiWQaIiVb",
        "outputId": "666714d7-d1c8-414f-c8d0-e4862f4c3624"
      },
      "source": [
        "print('Oluşturduğumuz modelin max. değeri :', prediction5.max())"
      ],
      "execution_count": null,
      "outputs": [
        {
          "output_type": "stream",
          "text": [
            "Oluşturduğumuz modelin max. değeri : 73.8948666666667\n"
          ],
          "name": "stdout"
        }
      ]
    },
    {
      "cell_type": "code",
      "metadata": {
        "colab": {
          "base_uri": "https://localhost:8080/"
        },
        "id": "OaJmjzYoIiVb",
        "outputId": "275f13b7-b0be-48f9-a1aa-79f45031cc37"
      },
      "source": [
        "print('Oluşturduğumuz modelin ortalama değeri :', prediction5.mean())"
      ],
      "execution_count": null,
      "outputs": [
        {
          "output_type": "stream",
          "text": [
            "Oluşturduğumuz modelin ortalama değeri : 38.144812537382094\n"
          ],
          "name": "stdout"
        }
      ]
    },
    {
      "cell_type": "code",
      "metadata": {
        "colab": {
          "base_uri": "https://localhost:8080/"
        },
        "id": "lW-BFTQrIiVc",
        "outputId": "28299507-9e32-4b81-e266-43202a9e81a7"
      },
      "source": [
        "print('Oluşturduğumuz modelin standart sapması :', prediction5.std())"
      ],
      "execution_count": null,
      "outputs": [
        {
          "output_type": "stream",
          "text": [
            "Oluşturduğumuz modelin standart sapması : 11.72286662318501\n"
          ],
          "name": "stdout"
        }
      ]
    },
    {
      "cell_type": "code",
      "metadata": {
        "colab": {
          "base_uri": "https://localhost:8080/"
        },
        "id": "3y9KK2t3DcvO",
        "outputId": "2aec7f1c-d926-4991-9b18-d7f27bcfc11d"
      },
      "source": [
        "print('Modelin Başarısı:', model5.score(x,y)) "
      ],
      "execution_count": null,
      "outputs": [
        {
          "output_type": "stream",
          "text": [
            "Modelin Başarısı: 0.8541391335061596\n"
          ],
          "name": "stdout"
        }
      ]
    },
    {
      "cell_type": "code",
      "metadata": {
        "colab": {
          "base_uri": "https://localhost:8080/"
        },
        "id": "84rlyCPNDcvO",
        "outputId": "3793fe1a-156c-4b2e-b26c-3a1ed236459c"
      },
      "source": [
        "print('Mean Absolute Error:', metrics.mean_absolute_error(y_test, prediction5))  "
      ],
      "execution_count": null,
      "outputs": [
        {
          "output_type": "stream",
          "text": [
            "Mean Absolute Error: 5.032947624798711\n"
          ],
          "name": "stdout"
        }
      ]
    },
    {
      "cell_type": "code",
      "metadata": {
        "colab": {
          "base_uri": "https://localhost:8080/"
        },
        "id": "NWtU_8jKDcvP",
        "outputId": "68d52ee7-9c0b-4734-a473-c9325305e530"
      },
      "source": [
        "print('Mean Squared Error:', metrics.mean_squared_error(y_test, prediction5))  "
      ],
      "execution_count": null,
      "outputs": [
        {
          "output_type": "stream",
          "text": [
            "Mean Squared Error: 60.32693923944179\n"
          ],
          "name": "stdout"
        }
      ]
    },
    {
      "cell_type": "markdown",
      "metadata": {
        "id": "YcM8sSU-FDrb"
      },
      "source": [
        "> **3.6. Voting Regressor**"
      ]
    },
    {
      "cell_type": "code",
      "metadata": {
        "colab": {
          "base_uri": "https://localhost:8080/"
        },
        "id": "7w0tbkbBFDrc",
        "outputId": "4acdf948-2bac-4808-801c-f009c85e9b04"
      },
      "source": [
        "#Yardımcı regressorleri oluşturma ve eğitme\n",
        "reg1 = GradientBoostingRegressor(random_state=1)\n",
        "reg2 = RandomForestRegressor(random_state=1)\n",
        "reg3 = LinearRegression()\n",
        "reg1.fit(X_train,y_train)\n",
        "reg2.fit(X_train,y_train)\n",
        "reg3.fit(X_train,y_train)\n",
        "#Voting Regressor modelini oluşturma\n",
        "model6 = VotingRegressor([('gb', reg1), ('rf', reg2), ('lr', reg3)])\n",
        "#modeli eğitme\n",
        "model6.fit(X_train,y_train)"
      ],
      "execution_count": null,
      "outputs": [
        {
          "output_type": "stream",
          "text": [
            "/usr/local/lib/python3.7/dist-packages/sklearn/ensemble/_gb.py:1454: DataConversionWarning: A column-vector y was passed when a 1d array was expected. Please change the shape of y to (n_samples, ), for example using ravel().\n",
            "  y = column_or_1d(y, warn=True)\n",
            "/usr/local/lib/python3.7/dist-packages/ipykernel_launcher.py:6: DataConversionWarning: A column-vector y was passed when a 1d array was expected. Please change the shape of y to (n_samples,), for example using ravel().\n",
            "  \n",
            "/usr/local/lib/python3.7/dist-packages/sklearn/ensemble/_voting.py:406: DataConversionWarning: A column-vector y was passed when a 1d array was expected. Please change the shape of y to (n_samples, ), for example using ravel().\n",
            "  y = column_or_1d(y, warn=True)\n"
          ],
          "name": "stderr"
        },
        {
          "output_type": "execute_result",
          "data": {
            "text/plain": [
              "VotingRegressor(estimators=[('gb',\n",
              "                             GradientBoostingRegressor(alpha=0.9, ccp_alpha=0.0,\n",
              "                                                       criterion='friedman_mse',\n",
              "                                                       init=None,\n",
              "                                                       learning_rate=0.1,\n",
              "                                                       loss='ls', max_depth=3,\n",
              "                                                       max_features=None,\n",
              "                                                       max_leaf_nodes=None,\n",
              "                                                       min_impurity_decrease=0.0,\n",
              "                                                       min_impurity_split=None,\n",
              "                                                       min_samples_leaf=1,\n",
              "                                                       min_samples_split=2,\n",
              "                                                       min_weight_fraction_leaf=0.0,\n",
              "                                                       n_estimators=100,\n",
              "                                                       n_iter_no_change=N...\n",
              "                                                   max_leaf_nodes=None,\n",
              "                                                   max_samples=None,\n",
              "                                                   min_impurity_decrease=0.0,\n",
              "                                                   min_impurity_split=None,\n",
              "                                                   min_samples_leaf=1,\n",
              "                                                   min_samples_split=2,\n",
              "                                                   min_weight_fraction_leaf=0.0,\n",
              "                                                   n_estimators=100,\n",
              "                                                   n_jobs=None, oob_score=False,\n",
              "                                                   random_state=1, verbose=0,\n",
              "                                                   warm_start=False)),\n",
              "                            ('lr',\n",
              "                             LinearRegression(copy_X=True, fit_intercept=True,\n",
              "                                              n_jobs=None, normalize=False))],\n",
              "                n_jobs=None, weights=None)"
            ]
          },
          "metadata": {
            "tags": []
          },
          "execution_count": 33
        }
      ]
    },
    {
      "cell_type": "code",
      "metadata": {
        "colab": {
          "base_uri": "https://localhost:8080/"
        },
        "id": "IjMNJxqoFDrd",
        "outputId": "7cb62e6b-7e1c-461e-bea9-0a36bad32fa1"
      },
      "source": [
        "#test datasıyla modelimize tahmin ürettirelim\n",
        "prediction6 = model6.predict(X_test)\n",
        "print(prediction6)"
      ],
      "execution_count": null,
      "outputs": [
        {
          "output_type": "stream",
          "text": [
            "[68.45940632 15.18833889 43.01119037 16.69667262 36.07126283 39.47089906\n",
            " 43.53968296 35.72289284 54.13640344 45.58348797 44.14014178 34.74547053\n",
            " 39.8954771  40.66058177 56.88200229 44.35426431 37.60387644 47.09496873\n",
            " 40.9649163  42.78890028 55.75816559 28.32692035 38.95607907 48.72201021\n",
            " 51.5433589  43.48238142 43.56450124 26.63877002 50.53453282 22.97646763\n",
            " 43.00686386 28.59107032 48.14721851 38.20551803 43.46031505 28.30898521\n",
            " 48.03776299 30.56691839 55.13281631 14.12283935 51.50803695 35.59343125\n",
            " 30.09589987 46.22759548 15.90306431 42.40516    41.70298562 15.27367249\n",
            " 28.7977952  50.13041647 57.05666485 39.10452217 46.4314369  21.53354919\n",
            " 28.33588792 36.1169122  52.52378415 39.90930568 44.48145652 28.62394061\n",
            " 40.83357296 52.00282794 39.86366822 51.2936581  40.64695894 27.4725349\n",
            " 16.79206978 26.45294831 53.06744407 39.47089906 26.80173427 50.26265108\n",
            " 43.18567259 27.70627879 40.26587923 31.02937587 30.22147652 16.47711648\n",
            " 47.48169268 38.52624515 47.08886793 27.51588741 41.3644382  26.50417328\n",
            " 30.10696351 34.38598492 39.797023   37.55117095 49.86747945 47.72893564\n",
            " 47.09496873 37.34794012 28.31601763 27.84007429 18.46894943 40.09798694\n",
            " 29.19657481 39.67023378 16.63226524 43.10137629 47.09496873 40.9649163\n",
            " 42.66915212 38.0963043  39.99078005 28.37175821 40.5715251  13.46316017\n",
            " 42.64600183 16.70645725 48.28691748 39.38476932 33.98155596 40.26360886\n",
            " 48.05647452 39.36572563 49.33981073 40.66954934 35.74468472 27.79415846\n",
            " 31.0204083  36.12924053 28.30898521 38.07836916 55.97413316 43.15047708\n",
            " 57.04413242 52.69310499 17.16173444 43.77073358 38.48854299 55.10591359\n",
            " 55.82830362 26.55055378 30.58352072 29.57627998 37.26312107 40.24608096]\n"
          ],
          "name": "stdout"
        }
      ]
    },
    {
      "cell_type": "code",
      "metadata": {
        "colab": {
          "base_uri": "https://localhost:8080/"
        },
        "id": "-A8Ox9jUJhog",
        "outputId": "306598f9-a7a3-4160-f9bf-903be6816a27"
      },
      "source": [
        "print('Oluşturduğumuz modelin min. değeri :', prediction6.min())"
      ],
      "execution_count": null,
      "outputs": [
        {
          "output_type": "stream",
          "text": [
            "Oluşturduğumuz modelin min. değeri : 13.463160167346956\n"
          ],
          "name": "stdout"
        }
      ]
    },
    {
      "cell_type": "code",
      "metadata": {
        "colab": {
          "base_uri": "https://localhost:8080/"
        },
        "id": "smlAu0NVJhog",
        "outputId": "f8855a99-c7f7-4bd7-db7c-56947c982e89"
      },
      "source": [
        "print('Oluşturduğumuz modelin max. değeri :', prediction6.max())"
      ],
      "execution_count": null,
      "outputs": [
        {
          "output_type": "stream",
          "text": [
            "Oluşturduğumuz modelin max. değeri : 68.45940631889263\n"
          ],
          "name": "stdout"
        }
      ]
    },
    {
      "cell_type": "code",
      "metadata": {
        "colab": {
          "base_uri": "https://localhost:8080/"
        },
        "id": "Y8fKrZZeJhog",
        "outputId": "8df687b4-6e49-4c5f-d83f-ff35fa2a9f15"
      },
      "source": [
        "print('Oluşturduğumuz modelin ortalama değeri :', prediction6.mean())"
      ],
      "execution_count": null,
      "outputs": [
        {
          "output_type": "stream",
          "text": [
            "Oluşturduğumuz modelin ortalama değeri : 38.31027377614948\n"
          ],
          "name": "stdout"
        }
      ]
    },
    {
      "cell_type": "code",
      "metadata": {
        "colab": {
          "base_uri": "https://localhost:8080/"
        },
        "id": "RfMnSfROJhoh",
        "outputId": "c9c62cfd-d9ba-4fe7-aa88-def4cb29452d"
      },
      "source": [
        "print('Oluşturduğumuz modelin standart sapması :', prediction6.std())"
      ],
      "execution_count": null,
      "outputs": [
        {
          "output_type": "stream",
          "text": [
            "Oluşturduğumuz modelin standart sapması : 10.993061380573051\n"
          ],
          "name": "stdout"
        }
      ]
    },
    {
      "cell_type": "code",
      "metadata": {
        "colab": {
          "base_uri": "https://localhost:8080/"
        },
        "id": "6KZp1PE-FDrd",
        "outputId": "99d9840f-d7c6-44dc-a6f0-17d333f77de1"
      },
      "source": [
        "print('Modelin Başarısı:', model6.score(x,y)) "
      ],
      "execution_count": null,
      "outputs": [
        {
          "output_type": "stream",
          "text": [
            "Modelin Başarısı: 0.8161692423651116\n"
          ],
          "name": "stdout"
        }
      ]
    },
    {
      "cell_type": "code",
      "metadata": {
        "colab": {
          "base_uri": "https://localhost:8080/"
        },
        "id": "dTjdFk_EFDrd",
        "outputId": "82986a25-2ec6-47de-e3fe-44e2aa9095fb"
      },
      "source": [
        "print('Mean Absolute Error:', metrics.mean_absolute_error(y_test, prediction6))  "
      ],
      "execution_count": null,
      "outputs": [
        {
          "output_type": "stream",
          "text": [
            "Mean Absolute Error: 4.885601928545602\n"
          ],
          "name": "stdout"
        }
      ]
    },
    {
      "cell_type": "code",
      "metadata": {
        "colab": {
          "base_uri": "https://localhost:8080/"
        },
        "id": "kDjQu2_PFDre",
        "outputId": "2b698ac6-fdad-4397-abd5-de7c5e19539a"
      },
      "source": [
        "print('Mean Squared Error:', metrics.mean_squared_error(y_test, prediction6))  "
      ],
      "execution_count": null,
      "outputs": [
        {
          "output_type": "stream",
          "text": [
            "Mean Squared Error: 56.426514026861945\n"
          ],
          "name": "stdout"
        }
      ]
    }
  ]
}